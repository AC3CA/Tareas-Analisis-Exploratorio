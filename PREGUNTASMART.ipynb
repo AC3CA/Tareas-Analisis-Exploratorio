
Los datos a tratar en el proyecto
