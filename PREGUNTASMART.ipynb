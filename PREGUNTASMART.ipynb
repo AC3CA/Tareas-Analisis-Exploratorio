
Andres Camilo Carabali Castellanos
Problema: Los sobrecostos ecológicos, económicos y sociales de los químicos pesticidas y herbicidas de los cultivos de plátano en el departamento del Magdalena.
Métrica: Los valores cuantificables de la calidad de los suelos (pH, Humedad, Temperatura, densidad aparente, etc).
Pregunta SMART: ¿Que tanta variación de los datos estadísticos de los suelos se pueden encontrar luego de aplicar metodologías distintas a la aplicación de pesticidas y herbicidas
                  en los cultivos de platanos, tomando como base un primer premuestreo con químicos y dos muestreos (inicialmente) sin químicos, todo esto en el plazo de 2 a 3 meses? 
