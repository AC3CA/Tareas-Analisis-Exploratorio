{
 "cells": [
  {
   "cell_type": "markdown",
   "metadata": {},
   "source": [
    "#Taller 4, Preparación de los datos\n",
    "\n",
    "\n",
    "El propósito de este taller es demostrar cómo preparar la información que el DataFrame de nuestro proyecto utilizará como base de estudio. Por lo tanto, se realizará una búsqueda y un análisis con el fin de garantizar la integridad de los datos.\n",
    "\n"
   ]
  },
  {
   "cell_type": "code",
   "execution_count": 1,
   "metadata": {},
   "outputs": [
    {
     "name": "stdout",
     "output_type": "stream",
     "text": [
      "No.              0\n",
      "Tiempo           0\n",
      "Temperatura°C    0\n",
      "Humedad%         0\n",
      "dtype: int64\n"
     ]
    }
   ],
   "source": [
    "#Lo primero que se debe hacer es importar la libreria pandas para poder leer el archivo excel\n",
    "import pandas as pd\n",
    "#Se debe especificar la ruta del archivo excel, en este caso se encuentra en la carpeta del proyecto\n",
    "file_path = 'C:\\\\Users\\\\accc_\\\\ICESI\\\\Analisis exploratorio\\\\Tareas-Analisis-Exploratorio\\\\Tareas-Analisis-Exploratorio\\\\Taller 3\\\\Datos laboratorio Fisica de Suelos.xlsx'\n",
    "#Se crea el dataframe con la funcion read_excel, se especifica el nombre de la hoja que se quiere leer\n",
    "df=pd.read_excel(file_path, sheet_name='Lista')\n",
    "#Se imprime el dataframe para verificar que se haya cargado correctamente y sin valores nulos\n",
    "print(df.isnull().sum())\n"
   ]
  },
  {
   "cell_type": "markdown",
   "metadata": {},
   "source": [
    "Dado a que el dataframe no parece tener datos nulos en ninguna de sus columnas no es necesario el uso de la función dropna(), la cual se encarga de borrar las filas que presenten datos nulos ni tampoco cambiar los valores nulos por otras variables. Por ende, el siguiente paso es el análisis de estas."
   ]
  },
  {
   "cell_type": "code",
   "execution_count": 2,
   "metadata": {},
   "outputs": [
    {
     "name": "stdout",
     "output_type": "stream",
     "text": [
      "+-----+---------------------+---------------+----------+\n",
      "| No. |       Tiempo        | Temperatura°C | Humedad% |\n",
      "+-----+---------------------+---------------+----------+\n",
      "|  1  | 2024-03-22 09:50:41 |     27,5      |   49,6   |\n",
      "|  2  | 2024-03-22 10:50:41 |     24,1      |   52,2   |\n",
      "|  3  | 2024-03-22 11:50:41 |     24,7      |   51,8   |\n",
      "|  4  | 2024-03-22 12:50:41 |     24,9      |   49,8   |\n",
      "|  5  | 2024-03-22 13:50:41 |     24,8      |   48,3   |\n",
      "+-----+---------------------+---------------+----------+\n"
     ]
    }
   ],
   "source": [
    "from tabulate import tabulate\n",
    "\n",
    "# Mostrar el DataFrame sin el índice\n",
    "print(tabulate(df.head(5), headers='keys', tablefmt='pretty', showindex=False))\n",
    "\n"
   ]
  },
  {
   "cell_type": "markdown",
   "metadata": {},
   "source": [
    "Como podemos observar en el DataFrame, la información de las columnas está dividida en cuatro variables numéricas. La primera es el número de la muestra, la segunda es la fecha y hora exacta en que se tomaron las muestras, y las dos últimas corresponden a la temperatura (en grados Celsius) y al porcentaje de humedad. Debido a que en el taller anterior los datos de la columna de tiempo generaron problemas con el formato actual, se decidió separar esta columna en dos: una para la fecha y otra para la hora, además de realizar otros cambios."
   ]
  },
  {
   "cell_type": "code",
   "execution_count": 3,
   "metadata": {},
   "outputs": [
    {
     "name": "stdout",
     "output_type": "stream",
     "text": [
      "+-----+----------+------------+---------------+----------+\n",
      "| No. |   Hora   |   Fecha    | Temperatura°C | Humedad% |\n",
      "+-----+----------+------------+---------------+----------+\n",
      "|  1  | 09:50:41 | 2024-03-22 |     27,5      |   49,6   |\n",
      "|  2  | 10:50:41 | 2024-03-22 |     24,1      |   52,2   |\n",
      "|  3  | 11:50:41 | 2024-03-22 |     24,7      |   51,8   |\n",
      "|  4  | 12:50:41 | 2024-03-22 |     24,9      |   49,8   |\n",
      "|  5  | 13:50:41 | 2024-03-22 |     24,8      |   48,3   |\n",
      "+-----+----------+------------+---------------+----------+\n",
      "+------+----------+------------+---------------+----------+\n",
      "| No.  |   Hora   |   Fecha    | Temperatura°C | Humedad% |\n",
      "+------+----------+------------+---------------+----------+\n",
      "| 3334 | 06:50:41 | 2024-08-08 |     28,5      |   70,8   |\n",
      "| 3335 | 07:50:41 | 2024-08-08 |     28,7      |   72,8   |\n",
      "| 3336 | 08:50:41 | 2024-08-08 |     23,7      |   61,2   |\n",
      "| 3337 | 09:50:41 | 2024-08-08 |     24,0      |   55,3   |\n",
      "| 3338 | 10:50:41 | 2024-08-08 |     25,4      |   43,3   |\n",
      "+------+----------+------------+---------------+----------+\n"
     ]
    }
   ],
   "source": [
    "# 1. Asegurarse de que la columna 'Tiempo' esté en formato datetime\n",
    "df['Tiempo'] = pd.to_datetime(df['Tiempo'])\n",
    "df['Fecha'] = df['Tiempo'].dt.date\n",
    "\n",
    "# 2. Extraer solo la hora (en formato HH:MM:SS)\n",
    "df['Hora'] = df['Tiempo'].dt.time\n",
    "\n",
    "# 3. Reorder the columns\n",
    "df = df[['No.', 'Hora', 'Fecha', 'Temperatura°C', 'Humedad%']]\n",
    "\n",
    "# 4. Print the updated dataframe\n",
    "print(tabulate(df.head(5), headers='keys', tablefmt='pretty', showindex=False))\n",
    "print(tabulate(df.tail(5), headers='keys', tablefmt='pretty', showindex=False))\n"
   ]
  },
  {
   "cell_type": "markdown",
   "metadata": {},
   "source": [
    "Con la fecha y las horas organizadas y con la integridad de los datos garantizada, el siguiente paso es evaluar si los datos, tal como están, pueden ayudarnos a resolver la pregunta planteada: ¿Cumplen los datos del laboratorio de los últimos seis meses con los valores adecuados (25 grados Celsius de temperatura y 50% de humedad) para la preservación de las muestras? Teniendo en cuenta que los sensores parecen tener márgenes de error de ±3% en humedad y ±5°C en temperatura, es posible realizar un análisis descriptivo y prescriptivo de los datos utilizando esos márgenes como referencia."
   ]
  }
 ],
 "metadata": {
  "kernelspec": {
   "display_name": "Python 3",
   "language": "python",
   "name": "python3"
  },
  "language_info": {
   "codemirror_mode": {
    "name": "ipython",
    "version": 3
   },
   "file_extension": ".py",
   "mimetype": "text/x-python",
   "name": "python",
   "nbconvert_exporter": "python",
   "pygments_lexer": "ipython3",
   "version": "3.11.7"
  }
 },
 "nbformat": 4,
 "nbformat_minor": 2
}
